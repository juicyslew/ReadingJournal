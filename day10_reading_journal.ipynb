{
 "cells": [
  {
   "cell_type": "markdown",
   "metadata": {},
   "source": [
    "# Day 10 Reading Journal\n",
    "\n",
    "This journal includes several required exercises, but it is meant to encourage active reading more generally.  You should use the journal to take detailed notes, catalog questions, and explore the content from Think Python deeply.\n",
    "\n",
    "Reading: Review Think Python Chapters 15-17\n",
    "\n",
    "**Due: Thursday, February 23 at 12 noon**\n",
    "\n"
   ]
  },
  {
   "cell_type": "markdown",
   "metadata": {},
   "source": [
    "## [Chapter 15](http://www.greenteapress.com/thinkpython2/html/thinkpython2016.html), [Chapter 16](http://www.greenteapress.com/thinkpython2/html/thinkpython2017.html), [Chapter 17](http://www.greenteapress.com/thinkpython2/html/thinkpython2018.html)\n",
    "\n",
    "\n",
    "By the end of chapter 17, we have all the tools we need to create our own user-defined types known as classes. In this reading journal, we're asking you to review and solidify your understanding of this material so we can build on it for the rest of the course. \n",
    "\n",
    "If you didn't get a chance to fully complete the Day 9 reading journal, you may want to do so now."
   ]
  },
  {
   "cell_type": "markdown",
   "metadata": {
    "problem": "Terminology"
   },
   "source": [
    "### Terminology\n",
    "\n",
    "You should be familiar with the following list of terms and concepts. If any of them are unclear to you, re-read, ask, write a definition in your own words, and try an example if appropriate.\n",
    "\n",
    " - class\n",
    " - object\n",
    " - instance\n",
    " - attribute\n",
    " - method\n",
    " - shallow vs deep copying\n",
    " - pure functions vs modifiers\n",
    " - initializing object instances\n",
    " "
   ]
  },
  {
   "cell_type": "markdown",
   "metadata": {
    "is_question": true,
    "problem": "Exercise 1"
   },
   "source": [
    "### Exercise\n",
    "\n",
    "We're going to take the first steps toward writing a calendar application. To keep things simple, we'll restrict ourselves to a single day for now. Write an `Event` class with the following attributes:\n",
    "\n",
    " - `name`  : Title for the `Event`\n",
    " - `start` : `Time` object representing the start time for the `Event`\n",
    " - `end`   : `Time` object representing the end time for the `Event`\n",
    "\n",
    "You can also augment your `Event` class with additional attributes, such as location and attendees.\n",
    "\n",
    "Write `__init__` and `__str__` methods for your `Event` class."
   ]
  },
  {
   "cell_type": "code",
   "execution_count": 3,
   "metadata": {
    "collapsed": false,
    "solution": "Exercise 1"
   },
   "outputs": [
    {
     "name": "stdout",
     "output_type": "stream",
     "text": [
      "*********Hw All Night*********\n",
      "When: 01:10:30 to 05:02:46\n",
      "Who: Antonio, Athmika, Colvin, Minju, Prava, and Sam\n",
      "Where: West Hall Nook and Sam's Room\n",
      "03:52:16\n"
     ]
    }
   ],
   "source": [
    "class Time:\n",
    "    def __init__(self, h, m, s):\n",
    "        self.hour = h\n",
    "        self.minute = m\n",
    "        self.second = s\n",
    "    def __str__(self):\n",
    "        return '%.2d:%.2d:%.2d' % (self.hour, self.minute, self.second)\n",
    "    def __sub__(self, other):\n",
    "        t1 = time_to_int(self)\n",
    "        t2 = time_to_int(other)\n",
    "        if t1 > t2:\n",
    "            return t1 - t2\n",
    "        else:\n",
    "            return t2 - t1\n",
    "    def __lt__(self, other):\n",
    "        return time_to_int(self) < time_to_int(other)\n",
    "    \n",
    "def time_to_int(time):\n",
    "    minutes = time.hour * 60 + time.minute\n",
    "    seconds = minutes * 60 + time.second\n",
    "    return seconds\n",
    "\n",
    "def int_to_time(seconds):\n",
    "    minutes, second = divmod(seconds, 60)\n",
    "    hour, minute = divmod(minutes, 60)\n",
    "    time = Time(hour, minute, second)\n",
    "    return time\n",
    "        \n",
    "test = [Time(3, 4, 5), Time(6, 7, 8), Time(9, 10, 11)]\n",
    "#print(sorted(test))\n",
    "\n",
    "class Event:\n",
    "    def __init__(self, name, start, end, people = None, place = None):\n",
    "        self.name = name\n",
    "        self.start = start\n",
    "        self.end = end\n",
    "        if people == None:\n",
    "            people = []\n",
    "        self.people = people\n",
    "        self.place = place\n",
    "    def __str__(self):\n",
    "        sort_people = sorted(self.people)\n",
    "        return \"*********%s*********\" %(self.name) + \"\\nWhen: %s to %s\" %(str(self.start), str(self.end)) + \"%s\"%('' if self.people == None else '\\nWho: '+\", \".join(sort_people[:-1])+', and '+ sort_people[-1]) +'%s' %('' if self.place == None else \"\\nWhere: \"+self.place)\n",
    "    def duration(self):\n",
    "        return str(int_to_time(self.start - self.end))\n",
    "    def __lt__(self, other):\n",
    "        return self.start < other.start\n",
    "\n",
    "startT = Time(1, 10, 30)\n",
    "startInt = time_to_int(startT)\n",
    "endT = Time(5, 2, 46)\n",
    "ev = Event('Hw All Night', startT, endT, ['Prava', 'Sam', 'Colvin', 'Athmika', 'Minju', 'Antonio'], \"West Hall Nook and Sam's Room\")\n",
    "print(ev)\n",
    "print(ev.duration())"
   ]
  },
  {
   "cell_type": "markdown",
   "metadata": {
    "is_question": true,
    "problem": "Exercise 2"
   },
   "source": [
    "### Exercise\n",
    "\n",
    "Write a `duration` method that returns the duration of the `Event` in minutes."
   ]
  },
  {
   "cell_type": "code",
   "execution_count": null,
   "metadata": {
    "collapsed": true,
    "solution": "Exercise 2"
   },
   "outputs": [],
   "source": []
  },
  {
   "cell_type": "markdown",
   "metadata": {
    "is_question": true,
    "problem": "Exercise 3"
   },
   "source": [
    "### Exercise\n",
    "\n",
    "Write an `Agenda` class that contains several `Event`s for the day.\n",
    "\n",
    "**Quick check: ** How should you store `Event`s within your `Agenda` class?\n"
   ]
  },
  {
   "cell_type": "markdown",
   "metadata": {},
   "source": [
    "With an optional None and an if statement in init that checks for none and creates an emptylist"
   ]
  },
  {
   "cell_type": "markdown",
   "metadata": {},
   "source": [
    " "
   ]
  },
  {
   "cell_type": "markdown",
   "metadata": {},
   "source": [
    "Your `Agenda` class should include a `print_agenda` method that prints out your schedule for the day, in order.\n",
    "\n",
    "**Optional:** Include a `is_feasible` method that returns `True` if your schedule has no time conflicts. You may want to write additional helper methods for the `Event` class to make this easier."
   ]
  },
  {
   "cell_type": "code",
   "execution_count": 37,
   "metadata": {
    "collapsed": false,
    "solution": "Exercise 3"
   },
   "outputs": [
    {
     "name": "stdout",
     "output_type": "stream",
     "text": [
      "(True, None)\n",
      "=========Beginning of Day=========\n",
      "Feasable Schedule\n",
      "\n",
      "*********Hw All Night*********\n",
      "When: 01:10:30 to 05:02:46\n",
      "Who: Antonio, Athmika, Colvin, Minju, Prava, and Sam\n",
      "Where: West Hall Nook and Sam's Room\n",
      "\n",
      "*********QEA*********\n",
      "When: 09:00:00 to 12:29:59\n",
      "Who: John Goddees, Paul Ruvolo, Rebecca ?, Sam Michalka, and Siddhartan ?\n",
      "Where: AC 113\n",
      "\n",
      "*********CONFLICT*********\n",
      "When: 12:40:05 to 12:45:00\n",
      "Who: Destroyer of Efficiency, and Master of Conflict\n",
      "Where: Void of Overbooking\n",
      "\n",
      "*********SoftDes*********\n",
      "When: 13:30:00 to 15:09:59\n",
      "Who: Amon Miller, and Oliver Steele\n",
      "Where: AC 326 and 328\n",
      "\n",
      "\n",
      "============End of Day============\n"
     ]
    }
   ],
   "source": [
    "class Agenda:\n",
    "    def __init__(self, name, events=None):\n",
    "        self.name = name\n",
    "        if events == None:\n",
    "            events = []\n",
    "        self.events = events\n",
    "    def __str__(self):\n",
    "        event_ordered = sorted(self.events)\n",
    "        eventinfo = []\n",
    "        for event in event_ordered:\n",
    "            eventinfo.append(str(event))\n",
    "        feasable, conflict = self.is_feasable()\n",
    "        return \"=========Beginning of Day=========\\n%s\\n\\n\"%(\"Feasable Schedule\" if feasable else \"Please Fix Conflict: \" + ', '.join(conflict)) + '\\n\\n'.join(eventinfo) + '\\n\\n\\n============End of Day============'\n",
    "    def newEv(self, event):\n",
    "        self.events.append(event)\n",
    "    def is_feasable(self):\n",
    "        feasable = True\n",
    "        conflict = None\n",
    "        for event in self.events:\n",
    "            for event2 in self.events:\n",
    "                if event==event2:\n",
    "                    break\n",
    "                if (event.start < event2.end and event2.start < event.end) or (event.start > event2.end and event2.start > event.end):\n",
    "                    feasable = False\n",
    "                    conflict = [event.name, event2.name]\n",
    "                    break\n",
    "            if not feasable:\n",
    "                break\n",
    "        \n",
    "        return feasable, conflict#\"%s\"%(\"Schedule feasable\" if feasable else \"Schedule infesable\")\n",
    "    \n",
    "    \n",
    "\n",
    "startT = Time(1, 10, 30)\n",
    "startInt = time_to_int(startT)\n",
    "endT = Time(5, 2, 46)\n",
    "hw = Event('Hw All Night', startT, endT, ['Prava', 'Sam', 'Colvin', 'Athmika', 'Minju', 'Antonio'], \"West Hall Nook and Sam's Room\")\n",
    "qea = Event('QEA', Time(9, 0, 0), Time(12, 29, 59), ['Rebecca ?', 'Siddhartan ?','Sam Michalka','Paul Ruvolo','John Goddees'], \"AC 113\")\n",
    "A1 = Agenda('Feb 27', [hw, qea])\n",
    "\n",
    "softdes = Event('SoftDes', Time(13,30,0), Time(15,9,59), ['Amon Miller', 'Oliver Steele'], 'AC 326 and 328')\n",
    "conflictMonster = Event('CONFLICT', Time(12, 40, 5), Time(12, 45, 0), ['Master of Conflict', 'Destroyer of Efficiency'], \"Void of Overbooking\")\n",
    "A1.newEv(softdes)\n",
    "A1.newEv(conflictMonster)\n",
    "print(A1.is_feasable())\n",
    "print(A1)\n"
   ]
  },
  {
   "cell_type": "markdown",
   "metadata": {
    "is_question": true,
    "problem": "Exercise 4"
   },
   "source": [
    "### Going Beyond (optional)\n",
    "\n",
    "Some ideas for taking your application further:\n",
    " - Add people and/or places to the mix to create a scheduling assistant\n",
    " - Extend support for day-of-week or full date. A word of warning: dealing with dates and times in real applications is difficult due to the huge number of special cases (Perfect example: this reading journal is due on Leap Day). Consider using something like the Python [datetime](https://docs.python.org/3/library/datetime.html) module.\n",
    " - Use pickle or some other persistence strategy to save and load your `Agenda`."
   ]
  },
  {
   "cell_type": "code",
   "execution_count": null,
   "metadata": {
    "collapsed": true,
    "solution": "Exercise 4"
   },
   "outputs": [],
   "source": [
    "Done."
   ]
  },
  {
   "cell_type": "markdown",
   "metadata": {
    "poll_response": true,
    "solution": "Time spent"
   },
   "source": [
    " "
   ]
  },
  {
   "cell_type": "markdown",
   "metadata": {
    "is_question": true,
    "problem": "Feedback"
   },
   "source": [
    "## Reading Journal feedback\n",
    "\n",
    "[Please complete this short survey](https://docs.google.com/forms/d/e/1FAIpQLScQekhUrf6YYjpfQiAAbavLIA-IJklv_PX1BWbGgxj7JPolmw/viewform?c=0&w=1)\n",
    "\n",
    "If you have any comments on this Reading Journal, feel free to leave them in the survey linked above. This could include suggestions to improve the exercises, topics you'd like to see covered in class next time, or other feedback.\n",
    "\n",
    "If you have Python questions or run into problems while completing the reading, you should post them to Piazza instead so you can get a quick response before your journal is submitted."
   ]
  },
  {
   "cell_type": "markdown",
   "metadata": {
    "feedback_response": true,
    "solution": "Feedback"
   },
   "source": [
    " "
   ]
  }
 ],
 "metadata": {
  "kernelspec": {
   "display_name": "Python 3",
   "language": "python",
   "name": "python3"
  },
  "language_info": {
   "codemirror_mode": {
    "name": "ipython",
    "version": 3
   },
   "file_extension": ".py",
   "mimetype": "text/x-python",
   "name": "python",
   "nbconvert_exporter": "python",
   "pygments_lexer": "ipython3",
   "version": "3.5.2"
  }
 },
 "nbformat": 4,
 "nbformat_minor": 0
}
