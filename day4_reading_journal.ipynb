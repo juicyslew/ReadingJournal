{
 "cells": [
  {
   "cell_type": "markdown",
   "metadata": {},
   "source": [
    "# Day 4 Reading Journal\n",
    "\n",
    "This journal includes several required exercises, but it is meant to encourage active reading more generally.  You should use the journal to take detailed notes, catalog questions, and explore the content from Think Python deeply.\n",
    "\n",
    "Reading: Think Python Chapter 10\n",
    "\n",
    "**Due: Monday, January 30 at 12 noon**\n",
    "\n"
   ]
  },
  {
   "cell_type": "markdown",
   "metadata": {},
   "source": [
    "## [Chapter 10](http://www.greenteapress.com/thinkpython2/html/thinkpython2011.html)\n",
    "\n",
    "You may want to review [state diagrams in Chapter 2](http://greenteapress.com/thinkpython2/html/thinkpython2003.html). [Python Tutor](http://pythontutor.com/) is also helpful for visualizing the state of your program.\n",
    "\n"
   ]
  },
  {
   "cell_type": "markdown",
   "metadata": {},
   "source": [
    "### Exercise 10.3 \n",
    "Write a function called `middle` that takes a list and returns a new list that contains all but the first and last elements. So `middle([1,2,3,4])` should return `[2,3]`."
   ]
  },
  {
   "cell_type": "code",
   "execution_count": 1,
   "metadata": {
    "collapsed": false
   },
   "outputs": [
    {
     "name": "stdout",
     "output_type": "stream",
     "text": [
      "[2, 3]\n"
     ]
    }
   ],
   "source": [
    "def middle(l):\n",
    "    return l[1:-1]\n",
    "\n",
    "print(middle([1,2,3,4]))"
   ]
  },
  {
   "cell_type": "markdown",
   "metadata": {},
   "source": [
    "### Exercise 10.4 \n",
    "Write a function called `chop` that takes a list, modifies it by removing the first and last elements, and returns `None`.\n",
    "\n",
    "What is the difference between `middle` and `chop`? Sketch out the program state or take a look at each in Python Tutor and answer the question in the Markdown cell below."
   ]
  },
  {
   "cell_type": "code",
   "execution_count": 4,
   "metadata": {
    "collapsed": false
   },
   "outputs": [
    {
     "name": "stdout",
     "output_type": "stream",
     "text": [
      "[2, 3, 4]\n"
     ]
    }
   ],
   "source": [
    "def chop(l):\n",
    "    del t[0]\n",
    "    del t[-1]\n",
    "    pass\n",
    "\n",
    "l = [1,2,3,4,5]\n",
    "chop(l)\n",
    "print(l)"
   ]
  },
  {
   "cell_type": "markdown",
   "metadata": {},
   "source": []
  },
  {
   "cell_type": "markdown",
   "metadata": {},
   "source": [
    "### Exercise 10.6 \n",
    "Two words are anagrams if you can rearrange the letters from one to spell the other. Write a function called `is_anagram` that takes two strings and returns `True` if they are anagrams."
   ]
  },
  {
   "cell_type": "code",
   "execution_count": 12,
   "metadata": {
    "collapsed": false
   },
   "outputs": [
    {
     "name": "stdout",
     "output_type": "stream",
     "text": [
      "Finding tests in NoName\n",
      "Trying:\n",
      "    is_anagram(\"Foghorn\", \"gorhoFn\")\n",
      "Expecting:\n",
      "    True\n",
      "**********************************************************************\n",
      "File \"__main__\", line 5, in NoName\n",
      "Failed example:\n",
      "    is_anagram(\"Foghorn\", \"gorhoFn\")\n",
      "Exception raised:\n",
      "    Traceback (most recent call last):\n",
      "      File \"/usr/lib/python3.5/doctest.py\", line 1321, in __run\n",
      "        compileflags, 1), test.globs)\n",
      "      File \"<doctest NoName[0]>\", line 1, in <module>\n",
      "        is_anagram(\"Foghorn\", \"gorhoFn\")\n",
      "      File \"<ipython-input-12-b957901f91a3>\", line 13, in is_anagram\n",
      "        cnt1[char] += 1\n",
      "    KeyError: 'F'\n",
      "Trying:\n",
      "    is_anagram(\"red\", \"blue\")\n",
      "Expecting:\n",
      "    False\n",
      "**********************************************************************\n",
      "File \"__main__\", line 7, in NoName\n",
      "Failed example:\n",
      "    is_anagram(\"red\", \"blue\")\n",
      "Exception raised:\n",
      "    Traceback (most recent call last):\n",
      "      File \"/usr/lib/python3.5/doctest.py\", line 1321, in __run\n",
      "        compileflags, 1), test.globs)\n",
      "      File \"<doctest NoName[1]>\", line 1, in <module>\n",
      "        is_anagram(\"red\", \"blue\")\n",
      "      File \"<ipython-input-12-b957901f91a3>\", line 13, in is_anagram\n",
      "        cnt1[char] += 1\n",
      "    KeyError: 'r'\n"
     ]
    }
   ],
   "source": [
    "from collections import Counter\n",
    "\n",
    "def is_anagram(string1, string2):\n",
    "    \"\"\"\n",
    "    >>> is_anagram(\"Foghorn\", \"gorhoFn\")\n",
    "    True\n",
    "    >>> is_anagram(\"red\", \"blue\")\n",
    "    False\n",
    "    \"\"\"\n",
    "    cnt1 = Counter()\n",
    "    cnt2 = Counter()\n",
    "    for char in string1:\n",
    "        cnt1[char] += 1\n",
    "    for char in string2:\n",
    "        cnt2[char] += 1\n",
    "    if cnt1 == cnt2:\n",
    "        return True\n",
    "    else:\n",
    "        return False\n",
    "\n"
   ]
  },
  {
   "cell_type": "code",
   "execution_count": 10,
   "metadata": {
    "collapsed": false
   },
   "outputs": [
    {
     "name": "stdout",
     "output_type": "stream",
     "text": [
      "Finding tests in NoName\n",
      "Trying:\n",
      "    is_anagram(\"Foghorn\", \"gorhoFn\")\n",
      "Expecting:\n",
      "    True\n",
      "ok\n",
      "Trying:\n",
      "    is_anagram(\"red\", \"blue\")\n",
      "Expecting:\n",
      "    False\n",
      "ok\n"
     ]
    }
   ],
   "source": [
    "def is_anagram(s1, s2):\n",
    "    \"\"\"\n",
    "    >>> is_anagram(\"Foghorn\", \"gorhoFn\")\n",
    "    True\n",
    "    >>> is_anagram(\"red\", \"blue\")\n",
    "    False\n",
    "    \"\"\"\n",
    "    return Counter(s1) == Counter(s2)\n",
    "\n",
    "import doctest\n",
    "doctest.run_docstring_examples(is_anagram, globals(), verbose = True)"
   ]
  },
  {
   "cell_type": "code",
   "execution_count": 11,
   "metadata": {
    "collapsed": true
   },
   "outputs": [],
   "source": [
    "Counter?"
   ]
  },
  {
   "cell_type": "markdown",
   "metadata": {},
   "source": [
    "### Exercise 10.8  \n",
    "The (so-called) Birthday Paradox: <br /><br />\n",
    "1\\. Write a function called `has_duplicates` that takes a list and returns `True` if there is any element that appears more than once. It should not modify the original list.\n",
    "\n",
    "2\\. If there are 23 students in your class, what are the chances that two of you have the same birthday? Put your answer in the Markdown cell below. You can estimate this probability by generating random samples of 23 birthdays and checking for matches. Hint: you can generate random birthdays with the randint function from the [random module](https://docs.python.org/2/library/random.html).\n",
    "\n",
    "You can read about this problem at http://en.wikipedia.org/wiki/Birthday_paradox, and you can download Allen's solution from http://greenteapress.com/thinkpython2/code/birthday.py."
   ]
  },
  {
   "cell_type": "code",
   "execution_count": 19,
   "metadata": {
    "collapsed": false
   },
   "outputs": [
    {
     "name": "stdout",
     "output_type": "stream",
     "text": [
      "Finding tests in NoName\n",
      "Trying:\n",
      "    has_duplicate([1,2,3,4,5,6])\n",
      "Expecting:\n",
      "    False\n",
      "ok\n",
      "Trying:\n",
      "    has_duplicate([1,2,3,4,5,6,3])\n",
      "Expecting:\n",
      "    True\n",
      "ok\n"
     ]
    },
    {
     "data": {
      "text/plain": [
       "True"
      ]
     },
     "execution_count": 19,
     "metadata": {},
     "output_type": "execute_result"
    }
   ],
   "source": [
    "from collections import Counter\n",
    "import random\n",
    "birthdays = [int(random.random()*365) for x in range(23)]\n",
    "\n",
    "def has_duplicate(ls):\n",
    "    \"\"\"\n",
    "    >>> has_duplicate([1,2,3,4,5,6])\n",
    "    False\n",
    "    >>> has_duplicate([1,2,3,4,5,6,3])\n",
    "    True\n",
    "    \"\"\"\n",
    "    cnt = Counter(ls)\n",
    "    if all(value <= 1 for value in cnt.values()):\n",
    "        return False\n",
    "    return True\n",
    "\n",
    "import doctest\n",
    "doctest.run_docstring_examples(has_duplicate, globals(), verbose = True)\n",
    "\n",
    "has_duplicate(birthdays)"
   ]
  },
  {
   "cell_type": "markdown",
   "metadata": {},
   "source": []
  },
  {
   "cell_type": "markdown",
   "metadata": {},
   "source": [
    "### Challenge: Exercise 10.10 (optional)\n",
    "\n",
    "You should read [Chapter 9.1](http://www.greenteapress.com/thinkpython2/html/thinkpython2010.html) and do Exercise 1 first.\n",
    "\n",
    "To check whether a word is in the word list, you could use the `in` operator, but it would be relatively slow because it searches through the words in order (try it).\n",
    "\n",
    "Because the words are in alphabetical order, we can speed things up with a bisection search (also known as binary search), which is similar to what you do when you look a word up in the dictionary. You start in the middle and check to see whether the word you are looking for comes before the word in the middle of the list. If so, then you search the first half of the list the same way. Otherwise you search the second half.\n",
    "\n",
    "Either way, you cut the remaining search space in half. If the word list has 113,809 words, it will take about 17 steps to find the word or conclude that it’s not there.\n",
    "\n",
    "Write a function called `bisect` that takes a sorted list and a target value and returns the index of the value in the list, if it’s there, or `None` if it’s not.\n",
    "\n",
    "Or you could read the documentation of the `bisect` module and use that! Solution: http://greenteapress.com/thinkpython2/code/inlist.py."
   ]
  },
  {
   "cell_type": "code",
   "execution_count": null,
   "metadata": {
    "collapsed": true
   },
   "outputs": [],
   "source": []
  },
  {
   "cell_type": "markdown",
   "metadata": {},
   "source": [
    "## Reading Journal feedback\n",
    "\n",
    "Have any comments on this Reading Journal? Feel free to leave them [here](https://goo.gl/forms/hZqCUAi4ir7hVN6x2) and we'll read them when you submit your journal entry. This could include suggestions to improve the exercises, topics you'd like to see covered in class next time, or other feedback.\n",
    "\n",
    "If you have Python questions or run into problems while completing the reading, you should post them to Piazza instead so you can get a quick response before your journal is submitted."
   ]
  }
 ],
 "metadata": {
  "kernelspec": {
   "display_name": "Python 3",
   "language": "python",
   "name": "python3"
  },
  "language_info": {
   "codemirror_mode": {
    "name": "ipython",
    "version": 3
   },
   "file_extension": ".py",
   "mimetype": "text/x-python",
   "name": "python",
   "nbconvert_exporter": "python",
   "pygments_lexer": "ipython3",
   "version": "3.5.2"
  }
 },
 "nbformat": 4,
 "nbformat_minor": 0
}
