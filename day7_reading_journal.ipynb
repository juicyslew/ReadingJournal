{
 "cells": [
  {
   "cell_type": "markdown",
   "metadata": {},
   "source": [
    "# Day 7 Reading Journal\n",
    "\n",
    "This journal includes several required exercises, but it is meant to encourage active reading more generally.  You should use the journal to take detailed notes, catalog questions, and explore the content from Think Python deeply.\n",
    "\n",
    "Reading: Think Python Chapter 11, 12\n",
    "\n",
    "**Due: Monday, February 13 at 12 noon**\n",
    "\n"
   ]
  },
  {
   "cell_type": "markdown",
   "metadata": {},
   "source": [
    "## [Chapter 11](http://www.greenteapress.com/thinkpython/html/thinkpython012.html)\n"
   ]
  },
  {
   "cell_type": "markdown",
   "metadata": {},
   "source": [
    "**Quick check:** In about one sentence using your own words, what is a dictionary?"
   ]
  },
  {
   "cell_type": "markdown",
   "metadata": {},
   "source": [
    "A list of keys linked to values."
   ]
  },
  {
   "cell_type": "markdown",
   "metadata": {},
   "source": [
    " "
   ]
  },
  {
   "cell_type": "markdown",
   "metadata": {
    "is_question": true,
    "problem": "Exercise 11.2"
   },
   "source": [
    "### Exercise 11.2  \n",
    "\n",
    "Dictionaries have a method called [`get`](https://docs.python.org/3/library/stdtypes.html#mapping-types-dict) that takes a key and a default value. If the key appears in the dictionary, `get` returns the corresponding value; otherwise it returns the default value. For example:\n",
    "\n",
    "```\n",
    ">>> h = histogram('a')\n",
    ">>> print h\n",
    "{'a': 1}\n",
    ">>> h.get('a', 0)\n",
    "1\n",
    ">>> h.get('b', 0)\n",
    "0\n",
    "```\n",
    "\n",
    "Use `get` to write `histogram` more concisely. You should be able to eliminate the `if` statement. Add unit tests for your histogram implementation."
   ]
  },
  {
   "cell_type": "code",
   "execution_count": 6,
   "metadata": {
    "collapsed": false,
    "solution": "Exercise 11.2"
   },
   "outputs": [
    {
     "name": "stdout",
     "output_type": "stream",
     "text": [
      "Finding tests in NoName\n",
      "Trying:\n",
      "    histogram('bananans')\n",
      "Expecting:\n",
      "    {'b': 1, 'a': 3, 'n': 3, 's': 1}\n",
      "**********************************************************************\n",
      "File \"__main__\", line 3, in NoName\n",
      "Failed example:\n",
      "    histogram('bananans')\n",
      "Expected:\n",
      "    {'b': 1, 'a': 3, 'n': 3, 's': 1}\n",
      "Got:\n",
      "    {'s': 1, 'n': 3, 'b': 1, 'a': 3}\n"
     ]
    }
   ],
   "source": [
    "def histogram(s):\n",
    "    \"\"\"\n",
    "    >>> histogram('bananans')\n",
    "    {'b': 1, 'a': 3, 'n': 3, 's': 1}\n",
    "    \"\"\"\n",
    "    d = dict()\n",
    "    for c in s:\n",
    "        d[c] = d.get(c,0)+1\n",
    "    return d\n",
    "\n",
    "import doctest\n",
    "doctest.run_docstring_examples(histogram, globals(), verbose = True)"
   ]
  },
  {
   "cell_type": "markdown",
   "metadata": {},
   "source": [
    " "
   ]
  },
  {
   "cell_type": "markdown",
   "metadata": {
    "is_question": true,
    "problem": "Exercise 11.4"
   },
   "source": [
    "### Exercise 11.4  \n",
    "\n",
    "Modify `reverse_lookup` so that it builds and returns a list of all keys that map to `v`, or an empty list if there are none. Add unit tests for your implementation."
   ]
  },
  {
   "cell_type": "code",
   "execution_count": 11,
   "metadata": {
    "collapsed": false,
    "solution": "Exercise 11.4"
   },
   "outputs": [
    {
     "name": "stdout",
     "output_type": "stream",
     "text": [
      "Finding tests in NoName\n",
      "Trying:\n",
      "    reverse_lookup({'b': 1, 'a': 3, 'n': 3, 's': 1}, 3)\n",
      "Expecting:\n",
      "    ['n', 'a']\n",
      "ok\n"
     ]
    }
   ],
   "source": [
    "def reverse_lookup(d, v):\n",
    "    '''\n",
    "    >>> reverse_lookup({'b': 1, 'a': 3, 'n': 3, 's': 1}, 3)\n",
    "    ['n', 'a']\n",
    "    '''\n",
    "    ls = []\n",
    "    for k in d:\n",
    "        if d[k] == v:\n",
    "            ls.append(k)\n",
    "    if ls == []:\n",
    "        raise ValueError\n",
    "    else:\n",
    "        return ls\n",
    "    \n",
    "import doctest\n",
    "doctest.run_docstring_examples(reverse_lookup, globals(), verbose = True)"
   ]
  },
  {
   "cell_type": "markdown",
   "metadata": {},
   "source": [
    "If you'd like to learn more about errors and exceptions, you can check out the [Python tutorial](https://docs.python.org/3/tutorial/errors.html) or read ahead to [Appendix A](http://www.greenteapress.com/thinkpython2/html/thinkpython2021.html) of Think Python. If you choose to use doctest for your unit testing, it can also [deal with exceptions](https://docs.python.org/3/library/doctest.html#what-about-exceptions)."
   ]
  },
  {
   "cell_type": "markdown",
   "metadata": {},
   "source": [
    " "
   ]
  },
  {
   "cell_type": "markdown",
   "metadata": {},
   "source": [
    "**Quick check** What type of objects can be used as keys to a dictionary, i.e. what property must they have?"
   ]
  },
  {
   "cell_type": "markdown",
   "metadata": {},
   "source": []
  },
  {
   "cell_type": "markdown",
   "metadata": {},
   "source": [
    " "
   ]
  },
  {
   "cell_type": "markdown",
   "metadata": {
    "is_question": true,
    "problem": "Exercise 11.6"
   },
   "source": [
    "### Exercise 11.6 (modified)\n",
    "\n",
    "Create a memoized version of your Levenshtein distance function from Day 7. What kind of performance change do you see?\n",
    "\n",
    "Optional: If you'd like to get some quantitative results, you could check out the [timeit](https://docs.python.org/3/library/timeit.html) module\n",
    "\n",
    "Note: You can also study Fibonacci here if you prefer."
   ]
  },
  {
   "cell_type": "code",
   "execution_count": null,
   "metadata": {
    "collapsed": true,
    "solution": "Exercise 11.6"
   },
   "outputs": [],
   "source": []
  },
  {
   "cell_type": "markdown",
   "metadata": {},
   "source": [
    " "
   ]
  },
  {
   "cell_type": "markdown",
   "metadata": {},
   "source": [
    "## [Chapter 12](http://www.greenteapress.com/thinkpython2/html/thinkpython2013.html)\n",
    "\n",
    "**Quick check:** In about one sentence using your own words, what is a tuple?"
   ]
  },
  {
   "cell_type": "markdown",
   "metadata": {},
   "source": [
    "An Very Lightweight, Immutable List."
   ]
  },
  {
   "cell_type": "markdown",
   "metadata": {},
   "source": [
    " "
   ]
  },
  {
   "cell_type": "markdown",
   "metadata": {
    "is_question": true,
    "problem": "Exercise 12.1"
   },
   "source": [
    "### Chapter 12.4  \n",
    "\n",
    "Many of the built-in functions use variable-length argument tuples. For example, `max` and `min` can take any number of arguments:\n",
    "\n",
    "```\n",
    ">>> max(1,2,3)\n",
    "3\n",
    "```\n",
    "\n",
    "But `sum` does not.\n",
    "\n",
    "```\n",
    ">>> sum(1,2,3)\n",
    "TypeError: sum expected at most 2 arguments, got 3\n",
    "```\n",
    "\n",
    "Write a function called ```sumall``` that takes any number of arguments and returns their sum. \n",
    "\n",
    "Write unit tests for your function. Do I actually need to keep saying this? Let's assume it's always a good idea :)"
   ]
  },
  {
   "cell_type": "code",
   "execution_count": 16,
   "metadata": {
    "collapsed": false,
    "solution": "Exercise 12.1"
   },
   "outputs": [
    {
     "name": "stdout",
     "output_type": "stream",
     "text": [
      "Finding tests in NoName\n",
      "Trying:\n",
      "    sumall(1,2,3,4,5)\n",
      "Expecting:\n",
      "    15\n",
      "ok\n"
     ]
    }
   ],
   "source": [
    "def sumall(*args):\n",
    "    \"\"\"\n",
    "    >>> sumall(1,2,3,4,5)\n",
    "    15\n",
    "    \"\"\"\n",
    "    add = 0\n",
    "    for num in args:\n",
    "        add += num\n",
    "    return add\n",
    "\n",
    "import doctest\n",
    "doctest.run_docstring_examples(sumall, globals(), verbose=True)"
   ]
  },
  {
   "cell_type": "markdown",
   "metadata": {},
   "source": [
    "If you're interested in more flexible ways to pass arguments to functions, check out the [Python tutorial](https://docs.python.org/3/tutorial/controlflow.html#more-on-defining-functions). For instance, you can also use keyword arguments, which are collected into a dictionary just like `*` gathers variable numbers of positional arguments into a tuple.\n",
    "\n",
    "This pattern is very common for defining functions with complex optional behaviors in Python, and you will often see definitions like:\n",
    "\n",
    "```\n",
    "def my_func(required_argument1, *arguments, **keywords):\n",
    "    ...\n",
    "```"
   ]
  },
  {
   "cell_type": "markdown",
   "metadata": {},
   "source": [
    " "
   ]
  },
  {
   "cell_type": "markdown",
   "metadata": {
    "is_question": true,
    "problem": "Exercise 12 sort"
   },
   "source": [
    "### Exercise\n",
    "\n",
    "Write a function `sort_by_last_letter` that takes a list of words and returns a new list with the words sorted alphabetically by the _last letter_ in the word. Hint: use the **Decorate, Sort, Undecorate** pattern. Write unit tests for your function."
   ]
  },
  {
   "cell_type": "code",
   "execution_count": 26,
   "metadata": {
    "collapsed": false,
    "solution": "Exercise 12 sort"
   },
   "outputs": [
    {
     "name": "stdout",
     "output_type": "stream",
     "text": [
      "Finding tests in NoName\n",
      "Trying:\n",
      "    last_letter('banana')\n",
      "Expecting:\n",
      "    'a'\n",
      "ok\n",
      "Finding tests in NoName\n",
      "Trying:\n",
      "    sort_by_last_letter(['apple','dank memes','banana','pear'])\n",
      "Expecting:\n",
      "    ['banana', 'apple', 'pear', 'dank memes']\n",
      "ok\n"
     ]
    }
   ],
   "source": [
    "def last_letter(s):\n",
    "    \"\"\"\n",
    "    >>> last_letter('banana')\n",
    "    'a'\n",
    "    \"\"\"\n",
    "    return s[-1]\n",
    "\n",
    "def sort_by_last_letter(ls):\n",
    "    \"\"\"\n",
    "    >>> sort_by_last_letter(['apple','dank memes','banana','pear'])\n",
    "    ['banana', 'apple', 'pear', 'dank memes']\n",
    "    \"\"\"\n",
    "    return sorted(ls, key=last_letter)\n",
    "\n",
    "import doctest\n",
    "doctest.run_docstring_examples(last_letter, globals(), verbose=True)\n",
    "doctest.run_docstring_examples(sort_by_last_letter, globals(), verbose=True)"
   ]
  },
  {
   "cell_type": "markdown",
   "metadata": {},
   "source": [
    " "
   ]
  },
  {
   "cell_type": "markdown",
   "metadata": {},
   "source": [
    "**Quick check** Give an example of when you might use each sequence type:\n",
    "\n",
    "- tuple\n",
    "\n",
    "- list\n",
    "\n",
    "- string"
   ]
  },
  {
   "cell_type": "markdown",
   "metadata": {},
   "source": []
  },
  {
   "cell_type": "markdown",
   "metadata": {},
   "source": [
    " "
   ]
  },
  {
   "cell_type": "markdown",
   "metadata": {
    "is_question": true,
    "problem": "Exercise 12.3"
   },
   "source": [
    "### Exercise 12.1 \n",
    "\n",
    "Write a function called `most_frequent` that takes a string and prints the letters in decreasing order of frequency. Find text samples from several different languages and see how letter frequency varies between languages. Compare your results with the tables at http://en.wikipedia.org/wiki/Letter_frequencies. \n",
    "\n",
    "Allen's solution (try it on your own first): http://greenteapress.com/thinkpython2/code/most_frequent.py. "
   ]
  },
  {
   "cell_type": "code",
   "execution_count": 39,
   "metadata": {
    "collapsed": false,
    "solution": "Exercise 12.3"
   },
   "outputs": [
    {
     "name": "stdout",
     "output_type": "stream",
     "text": [
      "(' ', 566, '26.77%')\n",
      "('\\n', 179, '8.47%')\n",
      "('の', 44, '2.08%')\n",
      "('る', 33, '1.56%')\n",
      "('ー', 30, '1.42%')\n",
      "('い', 29, '1.37%')\n",
      "('た', 24, '1.14%')\n",
      "('し', 24, '1.14%')\n",
      "('に', 21, '0.99%')\n",
      "('ン', 20, '0.95%')\n",
      "('肉', 18, '0.85%')\n",
      "('ト', 18, '0.85%')\n",
      "('を', 18, '0.85%')\n",
      "('グ', 17, '0.8%')\n",
      "('ア', 17, '0.8%')\n",
      "('…', 17, '0.8%')\n",
      "('で', 16, '0.76%')\n",
      "('っ', 16, '0.76%')\n",
      "('が', 15, '0.71%')\n",
      "('ッ', 14, '0.66%')\n",
      "('と', 14, '0.66%')\n",
      "('う', 14, '0.66%')\n",
      "('り', 13, '0.61%')\n",
      "('も', 13, '0.61%')\n",
      "('ま', 13, '0.61%')\n",
      "('な', 13, '0.61%')\n",
      "('て', 13, '0.61%')\n",
      "('福', 12, '0.57%')\n",
      "('食', 11, '0.52%')\n",
      "('ロ', 11, '0.52%')\n",
      "('ラ', 11, '0.52%')\n",
      "('レ', 10, '0.47%')\n",
      "('ス', 10, '0.47%')\n",
      "('べ', 10, '0.47%')\n",
      "('く', 10, '0.47%')\n",
      "('袋', 9, '0.43%')\n",
      "('ブ', 9, '0.43%')\n",
      "('ん', 9, '0.43%')\n",
      "('ら', 9, '0.43%')\n",
      "('こ', 9, '0.43%')\n",
      "('お', 9, '0.43%')\n",
      "('1', 9, '0.43%')\n",
      "('0', 9, '0.43%')\n",
      "('フ', 8, '0.38%')\n",
      "('タ', 8, '0.38%')\n",
      "('イ', 8, '0.38%')\n",
      "('さ', 8, '0.38%')\n",
      "('！', 7, '0.33%')\n",
      "('日', 7, '0.33%')\n",
      "('リ', 7, '0.33%')\n",
      "('テ', 7, '0.33%')\n",
      "('コ', 7, '0.33%')\n",
      "('ク', 7, '0.33%')\n",
      "('キ', 7, '0.33%')\n",
      "('は', 7, '0.33%')\n",
      "('ご', 7, '0.33%')\n",
      "('え', 7, '0.33%')\n",
      "('集', 6, '0.28%')\n",
      "('猫', 6, '0.28%')\n",
      "('温', 6, '0.28%')\n",
      "('暖', 6, '0.28%')\n",
      "('房', 6, '0.28%')\n",
      "('ル', 6, '0.28%')\n",
      "('メ', 6, '0.28%')\n",
      "('ヒ', 6, '0.28%')\n",
      "('バ', 6, '0.28%')\n",
      "('ィ', 6, '0.28%')\n",
      "('つ', 6, '0.28%')\n",
      "('す', 6, '0.28%')\n",
      "('2', 6, '0.28%')\n",
      "('犬', 5, '0.24%')\n",
      "('子', 5, '0.24%')\n",
      "('人', 5, '0.24%')\n",
      "('ペ', 5, '0.24%')\n",
      "('プ', 5, '0.24%')\n",
      "('ニ', 5, '0.24%')\n",
      "('ド', 5, '0.24%')\n",
      "('だ', 5, '0.24%')\n",
      "('せ', 5, '0.24%')\n",
      "('か', 5, '0.24%')\n",
      "('「', 5, '0.24%')\n",
      "('5', 5, '0.24%')\n",
      "('生', 4, '0.19%')\n",
      "('特', 4, '0.19%')\n",
      "('牛', 4, '0.19%')\n",
      "('柴', 4, '0.19%')\n",
      "('年', 4, '0.19%')\n",
      "('寿', 4, '0.19%')\n",
      "('大', 4, '0.19%')\n",
      "('味', 4, '0.19%')\n",
      "('司', 4, '0.19%')\n",
      "('円', 4, '0.19%')\n",
      "('公', 4, '0.19%')\n",
      "('入', 4, '0.19%')\n",
      "('ヘ', 4, '0.19%')\n",
      "('ハ', 4, '0.19%')\n",
      "('ジ', 4, '0.19%')\n",
      "('シ', 4, '0.19%')\n",
      "('ガ', 4, '0.19%')\n",
      "('ウ', 4, '0.19%')\n",
      "('れ', 4, '0.19%')\n",
      "('め', 4, '0.19%')\n",
      "('ぱ', 4, '0.19%')\n",
      "('ち', 4, '0.19%')\n",
      "('あ', 4, '0.19%')\n",
      "('」', 4, '0.19%')\n",
      "('、', 4, '0.19%')\n",
      "('門', 3, '0.14%')\n",
      "('見', 3, '0.14%')\n",
      "('美', 3, '0.14%')\n",
      "('紹', 3, '0.14%')\n",
      "('活', 3, '0.14%')\n",
      "('林', 3, '0.14%')\n",
      "('小', 3, '0.14%')\n",
      "('専', 3, '0.14%')\n",
      "('回', 3, '0.14%')\n",
      "('品', 3, '0.14%')\n",
      "('切', 3, '0.14%')\n",
      "('介', 3, '0.14%')\n",
      "('三', 3, '0.14%')\n",
      "('ヴ', 3, '0.14%')\n",
      "('ュ', 3, '0.14%')\n",
      "('ャ', 3, '0.14%')\n",
      "('ム', 3, '0.14%')\n",
      "('ポ', 3, '0.14%')\n",
      "('ビ', 3, '0.14%')\n",
      "('デ', 3, '0.14%')\n",
      "('ォ', 3, '0.14%')\n",
      "('ァ', 3, '0.14%')\n",
      "('ど', 3, '0.14%')\n",
      "('け', 3, '0.14%')\n",
      "('7', 3, '0.14%')\n",
      "('#', 3, '0.14%')\n",
      "('％', 2, '0.09%')\n",
      "('麻', 2, '0.09%')\n",
      "('馬', 2, '0.09%')\n",
      "('風', 2, '0.09%')\n",
      "('陣', 2, '0.09%')\n",
      "('開', 2, '0.09%')\n",
      "('部', 2, '0.09%')\n",
      "('身', 2, '0.09%')\n",
      "('贅', 2, '0.09%')\n",
      "('豊', 2, '0.09%')\n",
      "('角', 2, '0.09%')\n",
      "('覧', 2, '0.09%')\n",
      "('草', 2, '0.09%')\n",
      "('脂', 2, '0.09%')\n",
      "('育', 2, '0.09%')\n",
      "('習', 2, '0.09%')\n",
      "('羊', 2, '0.09%')\n",
      "('緒', 2, '0.09%')\n",
      "('絶', 2, '0.09%')\n",
      "('種', 2, '0.09%')\n",
      "('発', 2, '0.09%')\n",
      "('甘', 2, '0.09%')\n",
      "('理', 2, '0.09%')\n",
      "('牧', 2, '0.09%')\n",
      "('爆', 2, '0.09%')\n",
      "('無', 2, '0.09%')\n",
      "('添', 2, '0.09%')\n",
      "('海', 2, '0.09%')\n",
      "('沢', 2, '0.09%')\n",
      "('毎', 2, '0.09%')\n",
      "('次', 2, '0.09%')\n",
      "('来', 2, '0.09%')\n",
      "('時', 2, '0.09%')\n",
      "('料', 2, '0.09%')\n",
      "('感', 2, '0.09%')\n",
      "('愛', 2, '0.09%')\n",
      "('意', 2, '0.09%')\n",
      "('悲', 2, '0.09%')\n",
      "('怯', 2, '0.09%')\n",
      "('志', 2, '0.09%')\n",
      "('必', 2, '0.09%')\n",
      "('後', 2, '0.09%')\n",
      "('当', 2, '0.09%')\n",
      "('強', 2, '0.09%')\n",
      "('式', 2, '0.09%')\n",
      "('店', 2, '0.09%')\n",
      "('床', 2, '0.09%')\n",
      "('川', 2, '0.09%')\n",
      "('寝', 2, '0.09%')\n",
      "('寒', 2, '0.09%')\n",
      "('寄', 2, '0.09%')\n",
      "('容', 2, '0.09%')\n",
      "('家', 2, '0.09%')\n",
      "('喜', 2, '0.09%')\n",
      "('可', 2, '0.09%')\n",
      "('取', 2, '0.09%')\n",
      "('厳', 2, '0.09%')\n",
      "('厚', 2, '0.09%')\n",
      "('印', 2, '0.09%')\n",
      "('匹', 2, '0.09%')\n",
      "('動', 2, '0.09%')\n",
      "('前', 2, '0.09%')\n",
      "('出', 2, '0.09%')\n",
      "('内', 2, '0.09%')\n",
      "('今', 2, '0.09%')\n",
      "('久', 2, '0.09%')\n",
      "('中', 2, '0.09%')\n",
      "('万', 2, '0.09%')\n",
      "('一', 2, '0.09%')\n",
      "('ヨ', 2, '0.09%')\n",
      "('ミ', 2, '0.09%')\n",
      "('ピ', 2, '0.09%')\n",
      "('ズ', 2, '0.09%')\n",
      "('ザ', 2, '0.09%')\n",
      "('よ', 2, '0.09%')\n",
      "('み', 2, '0.09%')\n",
      "('ぺ', 2, '0.09%')\n",
      "('ぶ', 2, '0.09%')\n",
      "('ず', 2, '0.09%')\n",
      "('じ', 2, '0.09%')\n",
      "('I', 2, '0.09%')\n",
      "('D', 2, '0.09%')\n",
      "('3', 2, '0.09%')\n",
      "('？', 1, '0.05%')\n",
      "('２', 1, '0.05%')\n",
      "('魅', 1, '0.05%')\n",
      "('髪', 1, '0.05%')\n",
      "('題', 1, '0.05%')\n",
      "('電', 1, '0.05%')\n",
      "('際', 1, '0.05%')\n",
      "('陽', 1, '0.05%')\n",
      "('陰', 1, '0.05%')\n",
      "('配', 1, '0.05%')\n",
      "('郵', 1, '0.05%')\n",
      "('避', 1, '0.05%')\n",
      "('選', 1, '0.05%')\n",
      "('転', 1, '0.05%')\n",
      "('路', 1, '0.05%')\n",
      "('趣', 1, '0.05%')\n",
      "('越', 1, '0.05%')\n",
      "('購', 1, '0.05%')\n",
      "('買', 1, '0.05%')\n",
      "('豆', 1, '0.05%')\n",
      "('話', 1, '0.05%')\n",
      "('訴', 1, '0.05%')\n",
      "('行', 1, '0.05%')\n",
      "('蔵', 1, '0.05%')\n",
      "('華', 1, '0.05%')\n",
      "('茶', 1, '0.05%')\n",
      "('芸', 1, '0.05%')\n",
      "('良', 1, '0.05%')\n",
      "('膨', 1, '0.05%')\n",
      "('能', 1, '0.05%')\n",
      "('耶', 1, '0.05%')\n",
      "('老', 1, '0.05%')\n",
      "('縦', 1, '0.05%')\n",
      "('編', 1, '0.05%')\n",
      "('結', 1, '0.05%')\n",
      "('細', 1, '0.05%')\n",
      "('簡', 1, '0.05%')\n",
      "('筋', 1, '0.05%')\n",
      "('第', 1, '0.05%')\n",
      "('突', 1, '0.05%')\n",
      "('秒', 1, '0.05%')\n",
      "('知', 1, '0.05%')\n",
      "('着', 1, '0.05%')\n",
      "('相', 1, '0.05%')\n",
      "('目', 1, '0.05%')\n",
      "('由', 1, '0.05%')\n",
      "('然', 1, '0.05%')\n",
      "('涙', 1, '0.05%')\n",
      "('浦', 1, '0.05%')\n",
      "('気', 1, '0.05%')\n",
      "('殺', 1, '0.05%')\n",
      "('正', 1, '0.05%')\n",
      "('止', 1, '0.05%')\n",
      "('檎', 1, '0.05%')\n",
      "('桃', 1, '0.05%')\n",
      "('果', 1, '0.05%')\n",
      "('材', 1, '0.05%')\n",
      "('杉', 1, '0.05%')\n",
      "('朱', 1, '0.05%')\n",
      "('有', 1, '0.05%')\n",
      "('月', 1, '0.05%')\n",
      "('更', 1, '0.05%')\n",
      "('昼', 1, '0.05%')\n",
      "('明', 1, '0.05%')\n",
      "('旅', 1, '0.05%')\n",
      "('新', 1, '0.05%')\n",
      "('教', 1, '0.05%')\n",
      "('抽', 1, '0.05%')\n",
      "('抹', 1, '0.05%')\n",
      "('技', 1, '0.05%')\n",
      "('成', 1, '0.05%')\n",
      "('応', 1, '0.05%')\n",
      "('復', 1, '0.05%')\n",
      "('御', 1, '0.05%')\n",
      "('得', 1, '0.05%')\n",
      "('弾', 1, '0.05%')\n",
      "('引', 1, '0.05%')\n",
      "('幸', 1, '0.05%')\n",
      "('帰', 1, '0.05%')\n",
      "('希', 1, '0.05%')\n",
      "('市', 1, '0.05%')\n",
      "('差', 1, '0.05%')\n",
      "('崎', 1, '0.05%')\n",
      "('屋', 1, '0.05%')\n",
      "('定', 1, '0.05%')\n",
      "('安', 1, '0.05%')\n",
      "('宅', 1, '0.05%')\n",
      "('婚', 1, '0.05%')\n",
      "('娘', 1, '0.05%')\n",
      "('央', 1, '0.05%')\n",
      "('夫', 1, '0.05%')\n",
      "('太', 1, '0.05%')\n",
      "('多', 1, '0.05%')\n",
      "('外', 1, '0.05%')\n",
      "('売', 1, '0.05%')\n",
      "('園', 1, '0.05%')\n",
      "('団', 1, '0.05%')\n",
      "('周', 1, '0.05%')\n",
      "('吠', 1, '0.05%')\n",
      "('名', 1, '0.05%')\n",
      "('原', 1, '0.05%')\n",
      "('単', 1, '0.05%')\n",
      "('千', 1, '0.05%')\n",
      "('募', 1, '0.05%')\n",
      "('効', 1, '0.05%')\n",
      "('功', 1, '0.05%')\n",
      "('力', 1, '0.05%')\n",
      "('割', 1, '0.05%')\n",
      "('初', 1, '0.05%')\n",
      "('分', 1, '0.05%')\n",
      "('保', 1, '0.05%')\n",
      "('便', 1, '0.05%')\n",
      "('何', 1, '0.05%')\n",
      "('他', 1, '0.05%')\n",
      "('上', 1, '0.05%')\n",
      "('・', 1, '0.05%')\n",
      "('ワ', 1, '0.05%')\n",
      "('ョ', 1, '0.05%')\n",
      "('ユ', 1, '0.05%')\n",
      "('ネ', 1, '0.05%')\n",
      "('ダ', 1, '0.05%')\n",
      "('ソ', 1, '0.05%')\n",
      "('サ', 1, '0.05%')\n",
      "('ゴ', 1, '0.05%')\n",
      "('ケ', 1, '0.05%')\n",
      "('ギ', 1, '0.05%')\n",
      "('カ', 1, '0.05%')\n",
      "('オ', 1, '0.05%')\n",
      "('ェ', 1, '0.05%')\n",
      "('わ', 1, '0.05%')\n",
      "('ょ', 1, '0.05%')\n",
      "('や', 1, '0.05%')\n",
      "('む', 1, '0.05%')\n",
      "('ほ', 1, '0.05%')\n",
      "('ば', 1, '0.05%')\n",
      "('そ', 1, '0.05%')\n",
      "('ぎ', 1, '0.05%')\n",
      "('Y', 1, '0.05%')\n",
      "('O', 1, '0.05%')\n",
      "('G', 1, '0.05%')\n",
      "('8', 1, '0.05%')\n",
      "('6', 1, '0.05%')\n",
      "('4', 1, '0.05%')\n",
      "('&', 1, '0.05%')\n"
     ]
    }
   ],
   "source": [
    "def histogram(s):\n",
    "    \"\"\"\n",
    "    >>> histogram('bananans')\n",
    "    {'b': 1, 'a': 3, 'n': 3, 's': 1}\n",
    "    \"\"\"\n",
    "    d = dict()\n",
    "    for c in s:\n",
    "        d[c] = d.get(c,0)+1\n",
    "    return d\n",
    "\n",
    "def most_frequent(s):\n",
    "    \"\"\"\n",
    "    >>> most_frequent('app')\n",
    "    [('p', 2), ('a', 1)]\n",
    "    \"\"\"\n",
    "    let_dict = histogram(s)\n",
    "    let_ls = []\n",
    "    for key, val in let_dict.items():\n",
    "        let_ls.append((val,key))\n",
    "    let_ls.sort(reverse = True)\n",
    "    fin = []\n",
    "    for val, key in let_ls:\n",
    "        fin.append((key,val))\n",
    "    return fin\n",
    "\n",
    "fname = 'testjapanese.txt'\n",
    "\n",
    "if __name__ == '__main__':\n",
    "    file = open(fname).read()\n",
    "    freq = most_frequent(file)\n",
    "    tot = 0\n",
    "    for char, val in freq:\n",
    "        tot += val\n",
    "    for char, val in freq:\n",
    "        print((char, val, str(round(val/tot*100,2))+'%'))"
   ]
  },
  {
   "cell_type": "markdown",
   "metadata": {},
   "source": [
    " "
   ]
  },
  {
   "cell_type": "markdown",
   "metadata": {
    "is_question": true,
    "problem": "Exercise 12.6"
   },
   "source": [
    "### Challenge: Exercise 12.4   (optional)\n",
    "\n",
    "From a [Car Talk Puzzler](http://www.cartalk.com/content/puzzlers):\n",
    "\n",
    "What is the longest English word, that remains a valid English word, as you remove its letters one at a time?\n",
    "\n",
    "Now, letters can be removed from either end, or the middle, but you can’t rearrange any of the letters. Every time you drop a letter, you wind up with another English word. If you do that, you’re eventually going to wind up with one letter and that too is going to be an English word—one that’s found in the dictionary. I want to know what’s the longest word and how many letters does it have?\n",
    "\n",
    "I’m going to give you a little modest example: Sprite. Ok? You start off with sprite, you take a letter off, one from the interior of the word, take the r away, and we’re left with the word spite, then we take the e off the end, we’re left with spit, we take the s off, we’re left with pit, it, and I. \n",
    "\n",
    "Write a program to find all words that can be reduced in this way, and then find the longest one.\n",
    "\n",
    "This exercise is a little more challenging than most, so here are some suggestions:\n",
    "\n",
    "- You might want to write a function that takes a word and computes a list of all the words that can be formed by removing one letter. These are the “children” of the word.\n",
    "- Recursively, a word is reducible if any of its children are reducible. As a base case, you can consider the empty string reducible.\n",
    "- The word list from [Chapter 9.1](http://www.greenteapress.com/thinkpython2/html/thinkpython2010.html) Exercise 1 doesn’t contain single letter words. So you might want to add “I”, “a”, and the empty string.\n",
    "- To improve the performance of your program, you might want to memoize the words that are known to be reducible.\n",
    "\n",
    "Allen's solution: http://greenteapress.com/thinkpython2/code/reducible.py."
   ]
  },
  {
   "cell_type": "code",
   "execution_count": null,
   "metadata": {
    "collapsed": true,
    "solution": "Exercise 12.6"
   },
   "outputs": [],
   "source": []
  },
  {
   "cell_type": "markdown",
   "metadata": {},
   "source": [
    " "
   ]
  },
  {
   "cell_type": "markdown",
   "metadata": {
    "is_question": true,
    "problem": "Feedback"
   },
   "source": [
    "## Reading Journal feedback\n",
    "\n",
    "[Please complete this short survey](https://docs.google.com/forms/d/e/1FAIpQLScQekhUrf6YYjpfQiAAbavLIA-IJklv_PX1BWbGgxj7JPolmw/viewform?c=0&w=1)\n",
    "\n",
    "If you have any comments on this Reading Journal, feel free to leave them in the survey linked above. This could include suggestions to improve the exercises, topics you'd like to see covered in class next time, or other feedback.\n",
    "\n",
    "If you have Python questions or run into problems while completing the reading, you should post them to Piazza instead so you can get a quick response before your journal is submitted."
   ]
  },
  {
   "cell_type": "markdown",
   "metadata": {
    "feedback_response": true,
    "solution": "Feedback"
   },
   "source": [
    " "
   ]
  }
 ],
 "metadata": {
  "kernelspec": {
   "display_name": "Python 3",
   "language": "python",
   "name": "python3"
  },
  "language_info": {
   "codemirror_mode": {
    "name": "ipython",
    "version": 3
   },
   "file_extension": ".py",
   "mimetype": "text/x-python",
   "name": "python",
   "nbconvert_exporter": "python",
   "pygments_lexer": "ipython3",
   "version": "3.5.2"
  }
 },
 "nbformat": 4,
 "nbformat_minor": 0
}
